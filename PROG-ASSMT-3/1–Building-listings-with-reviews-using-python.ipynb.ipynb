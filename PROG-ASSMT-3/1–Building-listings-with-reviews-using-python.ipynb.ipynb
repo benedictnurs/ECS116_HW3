{
 "cells": [
  {
   "cell_type": "markdown",
   "id": "c62ea35f-de63-47e8-93fc-a13bc4e58a9c",
   "metadata": {},
   "source": [
    "### <span style=color:blue> Loading Listings & Reviews data from postgresql into local MongoDB    </span>"
   ]
  },
  {
   "cell_type": "code",
   "execution_count": 3,
   "id": "ea7cbe6e-4481-4bf3-bb1d-7e0e9649a1be",
   "metadata": {},
   "outputs": [],
   "source": [
    "import sys\n",
    "import json\n",
    "import csv\n",
    "import yaml\n",
    "\n",
    "import importlib\n",
    "\n",
    "import math\n",
    "\n",
    "import pandas as pd\n",
    "import numpy as np\n",
    "\n",
    "import matplotlib as mpl\n",
    "import matplotlib.pyplot as plt\n",
    "import os\n",
    "from dotenv import load_dotenv\n",
    "\n",
    "from datetime import time\n",
    "from datetime import date\n",
    "from datetime import datetime\n",
    "# with the above choices, the imported datetime.time(2023,07,01) is recognized\n",
    "# from datetime import date\n",
    "# from datetime import datetime\n",
    "\n",
    "import pprint\n",
    "\n",
    "import psycopg2\n",
    "from sqlalchemy import create_engine, text as sql_text\n",
    "\n",
    "sys.path.append('helper_functions/')\n",
    "import util"
   ]
  },
  {
   "cell_type": "code",
   "execution_count": 4,
   "id": "95c43ba9-99d5-481d-b549-7952326aacef",
   "metadata": {},
   "outputs": [
    {
     "name": "stdout",
     "output_type": "stream",
     "text": [
      "Hello World\n"
     ]
    }
   ],
   "source": [
    "# test that utils.py has been imported well\n",
    "util.hello_world()"
   ]
  },
  {
   "cell_type": "markdown",
   "id": "86dc7f83-99a7-4686-af8b-f3a04ab60d4b",
   "metadata": {},
   "source": [
    "<span style=color:blue>Getting PostgreSQL connection set up</span>"
   ]
  },
  {
   "cell_type": "code",
   "execution_count": 6,
   "id": "461d210b-087a-4512-8592-af5af384976b",
   "metadata": {},
   "outputs": [
    {
     "name": "stdout",
     "output_type": "stream",
     "text": [
      "Successfully created db engine.\n"
     ]
    }
   ],
   "source": [
    "schema = \"new_york_city\"\n",
    "port = \"5432\"\n",
    "host = \"localhost\"\n",
    "database = \"airbnb\"\n",
    "password = \"postgres\"\n",
    "connection = \"postgres\"\n",
    "\n",
    "# Create the db engine \n",
    "\n",
    "db_eng = create_engine(f\"postgresql+psycopg2://{connection}:{password}@{host}:{port}/{database}\",\n",
    "                       connect_args={'options': '-csearch_path={}'.format(schema)},\n",
    "                       isolation_level = 'SERIALIZABLE')\n",
    "\n",
    "print(\"Successfully created db engine.\")"
   ]
  },
  {
   "cell_type": "markdown",
   "id": "3d4b4754-f3bc-4d78-900a-3061eb856b71",
   "metadata": {},
   "source": [
    "<span style=color:blue>Getting mongodb connection set up</span>"
   ]
  },
  {
   "cell_type": "code",
   "execution_count": 8,
   "id": "e0fbfb3f-2529-447b-b17d-bf12dbd2d36d",
   "metadata": {},
   "outputs": [],
   "source": [
    "from pymongo import MongoClient\n",
    "\n",
    "client = MongoClient()\n",
    "# could have written client = MongoClient(\"localhost\", 27017)\n",
    "#                 or client = MongoClient(\"mongodb://localhost:27017/\")"
   ]
  },
  {
   "cell_type": "markdown",
   "id": "8d3d8ec1-b6f7-4cae-8ec4-dcfd4c9be361",
   "metadata": {},
   "source": [
    "<span style=color:blue>Setting up collection \"listings\" in mongodb</span>"
   ]
  },
  {
   "cell_type": "code",
   "execution_count": 161,
   "id": "e1a6e20f-5c3e-4892-881b-2f64c42d8331",
   "metadata": {},
   "outputs": [
    {
     "name": "stdout",
     "output_type": "stream",
     "text": [
      "['listings_test', 'listings']\n"
     ]
    }
   ],
   "source": [
    "# I have (or will have) a database \"airbnb\"\n",
    "db = client.airbnb\n",
    "\n",
    "# inside the \"airbnb\" database, I have (or will have) a collection \"listings\"\n",
    "listings = db.listings\n",
    "print(db.list_collection_names())\n",
    "# I have some other collections in my airbnb database..."
   ]
  },
  {
   "cell_type": "markdown",
   "id": "d6de7bdc-84c8-4a84-b713-a8b7f39cc022",
   "metadata": {},
   "source": [
    "### <span style=color:blue>As preparation for the next steps, I have a created table reviewm in my PostgreSQL using DBeaver, in which I dropped the comments_tsv column (because not needed) and datetime, and also renamed column \"id\" to \"review_id\" (so that it is not repeating the \"id\" column of the listings table).</span>\n",
    "\n",
    "#### <span style=color:blue>Note: in my listings table the datatype of the 'last_review' column is date.  If the datatype of 'last_review' in your listings table is varchar(), then run a query in DBeaver to convert all empty string values in your 'last_review' column to the value NULL.  Then the code below should work.<span>\n",
    "\n",
    "<span style=color:blue>In the following I focus on the query q10, which fetches a left join based on all listing_ids with prefix '10'.  This is useful for doing testing.  For your assignment you should use the left join query that includes all listings.</span>"
   ]
  },
  {
   "cell_type": "code",
   "execution_count": 162,
   "id": "8e5b30df-c3c4-4a49-901a-415e18dc8ed0",
   "metadata": {},
   "outputs": [],
   "source": [
    "import importlib\n",
    "import util\n",
    "# using this in case I have added stuff to util.py\n",
    "importlib.reload(util)\n",
    "\n",
    "# some other queries I was experimenting with\n",
    "# q = util.build_query_full_join_listings_reviewsm()\n",
    "# q = util.build_query_left_join_listings_reviewsm_null_right()\n",
    "\n",
    "q10 = util.build_query_left_join_listings_reviewsm_10()\n",
    "q = util.build_query_left_join_listings_reviewsm()"
   ]
  },
  {
   "cell_type": "code",
   "execution_count": 163,
   "id": "518b6c90-01ab-4a77-b49b-fcdf82bab107",
   "metadata": {},
   "outputs": [],
   "source": [
    "with db_eng.connect() as conn:\n",
    "    df_ljr10 = pd.read_sql(q, con=conn)\n",
    "    # df_ljr = pd.read_sql(q, con=conn)\n",
    "    "
   ]
  },
  {
   "cell_type": "code",
   "execution_count": 164,
   "id": "16fc3cdd-63cb-43f5-8e7f-739d81cf7c8c",
   "metadata": {},
   "outputs": [
    {
     "name": "stdout",
     "output_type": "stream",
     "text": [
      "(998310, 24)\n"
     ]
    }
   ],
   "source": [
    "# print(df_ljr.shape)\n",
    "# should be 998,310 rows in df_ljr.  This is\n",
    "#     number of records in listings whose id do not show up in reviews['listing_id'] =  11,500\n",
    "#   + number of reviews                                                              = 986,810\n",
    "\n",
    "print(df_ljr10.shape)\n",
    "# you might want to check this number against what you expect based on what exploration\n",
    "#    you do with DBeaver"
   ]
  },
  {
   "cell_type": "markdown",
   "id": "4a984105-5153-4d82-a64e-f78a253e828e",
   "metadata": {},
   "source": [
    "### <span style=color:blue>The left outer join has between 0 and many records for each listing_id.  There is one record for each review about that listing.  We will now re-format this data into a list of dictionaries.  Each dictionary will have the data for one listing along with a list of all of the associated reviews. </span>"
   ]
  },
  {
   "cell_type": "code",
   "execution_count": 165,
   "id": "0d5e6733-dd1f-45ec-871e-187a3b228e1c",
   "metadata": {},
   "outputs": [
    {
     "name": "stdout",
     "output_type": "stream",
     "text": [
      "['id', 'name', 'host_id', 'host_name', 'neighbourhood_group', 'neighbourhood', 'latitude', 'longitude', 'room_type', 'price', 'minimum_nights', 'number_of_reviews', 'last_review', 'reviews_per_month', 'calculated_host_listings_count', 'availability_365', 'number_of_reviews_ltm', 'license', 'listing_id', 'review_id', 'date', 'reviewer_id', 'reviewer_name', 'comments']\n"
     ]
    }
   ],
   "source": [
    "cols = df_ljr10.columns.tolist()\n",
    "# cols = df_ljr.columns.tolist()\n",
    "print(cols)"
   ]
  },
  {
   "cell_type": "markdown",
   "id": "675b3c1c-f4cf-471b-991f-0473fdd0d757",
   "metadata": {},
   "source": [
    "<span style=color:blue>As a first step, we build a list of dictionaries with just the listing data.  To do this we use pandas to create a new dataframe with the reviews-related columns dropped</span>"
   ]
  },
  {
   "cell_type": "code",
   "execution_count": 166,
   "id": "72a595cc-9b34-4a41-a89e-d465b8676982",
   "metadata": {},
   "outputs": [
    {
     "name": "stdout",
     "output_type": "stream",
     "text": [
      "(39202, 18)\n"
     ]
    }
   ],
   "source": [
    "# to do a projection and remove duplicates\n",
    "cols_of_listings = ['id', 'name', 'host_id', 'host_name', 'neighbourhood_group', \n",
    "                    'neighbourhood', 'latitude', 'longitude', 'room_type', 'price', \n",
    "                    'minimum_nights', 'number_of_reviews', 'last_review', \n",
    "                    'reviews_per_month', 'calculated_host_listings_count', \n",
    "                    'availability_365', 'number_of_reviews_ltm', 'license']\n",
    "cols_of_reviews = ['listing_id', 'review_id', 'date', 'reviewer_id', \n",
    "                   'reviewer_name', 'comments']\n",
    "\n",
    "df_ljr10_new = df_ljr10.drop(cols_of_reviews, axis=1).drop_duplicates()\n",
    "\n",
    "\n",
    "print(df_ljr10_new.shape)\n",
    "# print(df_ljr_new.head(10))\n",
    "\n",
    "# print(df_ljr_new.iloc[13870])"
   ]
  },
  {
   "cell_type": "markdown",
   "id": "28f3be04-54be-403f-a7ee-e06b6ac87833",
   "metadata": {},
   "source": [
    "<span style=color:blue>Converting the dataframe into a list of dictionaries     </span>"
   ]
  },
  {
   "cell_type": "code",
   "execution_count": 167,
   "id": "50762f47-894e-4daf-b223-d3162ec33ec7",
   "metadata": {},
   "outputs": [
    {
     "name": "stdout",
     "output_type": "stream",
     "text": [
      "39202\n",
      "{'id': '897040470703986366',\n",
      " 'name': 'Rental unit in Brooklyn · ★4.70 · 2 bedrooms · 1 bath',\n",
      " 'host_id': 33817836,\n",
      " 'host_name': 'Eric',\n",
      " 'neighbourhood_group': 'Brooklyn',\n",
      " 'neighbourhood': 'East Flatbush',\n",
      " 'latitude': 40.64865,\n",
      " 'longitude': -73.94508,\n",
      " 'room_type': 'Entire home/apt',\n",
      " 'price': 169.0,\n",
      " 'minimum_nights': 30,\n",
      " 'number_of_reviews': 20,\n",
      " 'last_review': datetime.date(2024, 1, 31),\n",
      " 'reviews_per_month': 2.35,\n",
      " 'calculated_host_listings_count': 9,\n",
      " 'availability_365': 180,\n",
      " 'number_of_reviews_ltm': 20,\n",
      " 'license': ''}\n"
     ]
    }
   ],
   "source": [
    "dict_ljr10_new = df_ljr10_new.to_dict('records')\n",
    "print(len(dict_ljr10_new))\n",
    "pprint.pp(dict_ljr10_new[0])"
   ]
  },
  {
   "cell_type": "markdown",
   "id": "34c9515b-abab-4f49-af9e-d092dd133b82",
   "metadata": {},
   "source": [
    "<span style=color:blue>Let's try loading what we have so far into MongoDB, into a temporary collection     </span>"
   ]
  },
  {
   "cell_type": "code",
   "execution_count": 168,
   "id": "c680d107-9e5e-4e3f-97b3-0f22114fae9f",
   "metadata": {},
   "outputs": [
    {
     "name": "stdout",
     "output_type": "stream",
     "text": [
      "There was an error when loading the dictionary into MongoDB:\n",
      "cannot encode object: datetime.date(2024, 1, 31), of type: <class 'datetime.date'>\n"
     ]
    }
   ],
   "source": [
    "# testing with a new, temporary collection\n",
    "listings_test = db.listings_test\n",
    "\n",
    "try:\n",
    "    result = listings_test.insert_many(dict_ljr10_new)\n",
    "    print('\\nLast element of result for the last run was:')\n",
    "    print(result.inserted_ids[-1:])\n",
    "except Exception as e:\n",
    "    print('There was an error when loading the dictionary into MongoDB:')\n",
    "    print(e)\n",
    "\n"
   ]
  },
  {
   "cell_type": "markdown",
   "id": "322bafed-6c13-40c6-9c49-04ee4c9cd10d",
   "metadata": {},
   "source": [
    "<span style=color:blue>MongoDB does not handle dates, only datetimes.  Here is a function to convert the dates into datetimes.  (An alternative would have been to convert the dates in our table reviewsm into datetimes.)"
   ]
  },
  {
   "cell_type": "code",
   "execution_count": 169,
   "id": "f3cc4132-c499-4df3-b657-f975822e3b61",
   "metadata": {},
   "outputs": [
    {
     "name": "stdout",
     "output_type": "stream",
     "text": [
      "dict4['date'] tested positive as NaT\n",
      "{'foo': 1, 'date': datetime.date(2023, 1, 2)}\n",
      "{'foo': 1, 'date': datetime.datetime(2023, 1, 2, 0, 0)}\n",
      "\n",
      "{'goo': 2, 'date': nan}\n",
      "{'goo': 2, 'date': None}\n",
      "\n",
      "{'hoo': 3, 'date': None}\n",
      "{'hoo': 3, 'date': None}\n",
      "\n",
      "{'koo': 4, 'date': NaT}\n",
      "{'koo': 4, 'date': None}\n"
     ]
    }
   ],
   "source": [
    "# This converts date to datetime.  It also converts various kinds of\n",
    "#     null values into None, which loads into MongoDB without creating errors\n",
    "def convert_date_to_datetime(dt):\n",
    "    if pd.isnull(dt):           # tests whether dt is None, NaN, or DaT (not a date)\n",
    "        return None\n",
    "    elif type(dt) == pd._libs.tslibs.nattype.NaTType:  # including this, but see below\n",
    "        return None\n",
    "    else:\n",
    "        temp = datetime(dt.year, dt.month, dt.day)\n",
    "        ts = temp.timestamp()\n",
    "        new_dt = datetime.fromtimestamp(ts)\n",
    "        return new_dt\n",
    "\n",
    "# testing various cases:\n",
    "# Here are four dictionaries to test with\n",
    "dict1 = {'foo':1, 'date': date(2023,1,2)}\n",
    "dict2 = {'goo':2, 'date': math.nan}\n",
    "dict3 = {'hoo':3, 'date': None}\n",
    "dict4 = {'koo':4, 'date': pd.NaT}\n",
    "\n",
    "if pd.isnull(dict3['date']):        # pd.isnull tests whether something is \n",
    "    print(\"dict4['date'] tested positive as NaT\")    \n",
    "else:\n",
    "    print(\"dict4['date'] did not test positive as NaT\")\n",
    "    \n",
    "\n",
    "print(dict1)\n",
    "dict1['date'] = convert_date_to_datetime(dict1['date'])\n",
    "print(dict1)\n",
    "\n",
    "print()\n",
    "print(dict2)\n",
    "dict2['date'] = convert_date_to_datetime(dict2['date'])\n",
    "print(dict2)\n",
    "\n",
    "print()\n",
    "print(dict3)\n",
    "dict3['date'] = convert_date_to_datetime(dict3['date'])\n",
    "print(dict3)\n",
    "\n",
    "print()\n",
    "print(dict4)\n",
    "dict4['date'] = convert_date_to_datetime(dict4['date'])\n",
    "print(dict4)"
   ]
  },
  {
   "cell_type": "markdown",
   "id": "7ab049a3-58a8-41f9-8f04-97e9eb88c47b",
   "metadata": {},
   "source": [
    "<span style=color:blue>Use pandas to replace the dates in the \"last_review\" column with datetimes</span>"
   ]
  },
  {
   "cell_type": "code",
   "execution_count": 170,
   "id": "d073dcad-a8a4-42d8-bdaa-5054090c5059",
   "metadata": {},
   "outputs": [],
   "source": [
    "# trying to replace all dates by datetimes (or None)\n",
    "\n",
    "# df_ljr10_new['last_review'] = df_ljr10_new['last_review'].apply(convert_date_to_datetime)\n",
    "\n",
    "# could also have written\n",
    "df_ljr10_new['last_review'] = df_ljr10_new['last_review'].apply(lambda x: convert_date_to_datetime(x))"
   ]
  },
  {
   "cell_type": "code",
   "execution_count": 171,
   "id": "0e3ef4d5-f83a-4372-a1e7-3d68b0319f6f",
   "metadata": {},
   "outputs": [
    {
     "name": "stdout",
     "output_type": "stream",
     "text": [
      "                   id                                               name  \\\n",
      "0  897040470703986366  Rental unit in Brooklyn · ★4.70 · 2 bedrooms ·...   \n",
      "2              513688  Rental unit in Brooklyn · ★4.89 · 3 bedrooms ·...   \n",
      "3              769786  Rental unit in Brooklyn · ★4.60 · 1 bedroom · ...   \n",
      "4  882802659322534873  Rental unit in Brooklyn · ★4.83 · 1 bedroom · ...   \n",
      "5              112435  Home in Brooklyn · ★4.63 · 1 bedroom · 1 bed ·...   \n",
      "\n",
      "    host_id     host_name neighbourhood_group  neighbourhood  latitude  \\\n",
      "0  33817836          Eric            Brooklyn  East Flatbush  40.64865   \n",
      "2   2530670       Tiffany            Brooklyn    Boerum Hill  40.68607   \n",
      "3   4050489  Pete & Halle            Brooklyn   Williamsburg  40.71302   \n",
      "4  92735223         Milos            Brooklyn   Williamsburg  40.71595   \n",
      "5    181376         Carol            Brooklyn    Fort Greene  40.69132   \n",
      "\n",
      "   longitude        room_type  price  minimum_nights  number_of_reviews  \\\n",
      "0  -73.94508  Entire home/apt  169.0              30                 20   \n",
      "2  -73.98074  Entire home/apt    NaN              30                249   \n",
      "3  -73.95215  Entire home/apt    NaN              30                 40   \n",
      "4  -73.94142  Entire home/apt   79.0              30                 12   \n",
      "5  -73.97306     Private room   95.0              30                178   \n",
      "\n",
      "  last_review  reviews_per_month  calculated_host_listings_count  \\\n",
      "0  2024-01-31               2.35                               9   \n",
      "2  2023-10-20               1.76                               1   \n",
      "3  2016-10-02               0.29                               1   \n",
      "4  2023-10-13               1.36                               1   \n",
      "5  2023-10-31               1.16                               2   \n",
      "\n",
      "   availability_365  number_of_reviews_ltm license  \n",
      "0               180                     20          \n",
      "2                 0                     23          \n",
      "3                 0                      0          \n",
      "4               157                     12          \n",
      "5               365                      1          \n"
     ]
    }
   ],
   "source": [
    "print(df_ljr10_new.head())"
   ]
  },
  {
   "cell_type": "code",
   "execution_count": 172,
   "id": "f58b8596-57ed-4fd5-9c8b-972d7d25030a",
   "metadata": {},
   "outputs": [
    {
     "name": "stdout",
     "output_type": "stream",
     "text": [
      "<class 'pandas._libs.tslibs.timestamps.Timestamp'>\n",
      "2024-01-31 00:00:00\n",
      "<class 'pandas._libs.tslibs.timestamps.Timestamp'>\n",
      "2023-10-20 00:00:00\n",
      "<class 'pandas._libs.tslibs.timestamps.Timestamp'>\n",
      "2016-10-02 00:00:00\n",
      "<class 'pandas._libs.tslibs.timestamps.Timestamp'>\n",
      "2023-10-13 00:00:00\n"
     ]
    }
   ],
   "source": [
    "# As you can see in the result from the last cell,\n",
    "#   somehow the NaT's are still there, in spite of the special case included in\n",
    "#   the function convert_time_to_timestamp()\n",
    "#   BTW, curiously, on very small dataframes the convert_time_to_timestamp() does convert NaT to None\n",
    "\n",
    "# Happily, all of the actual dates have converted into datetimes, as illustrated by the following:\n",
    "#    Using \"iloc\" because the index values in df_ljr10_new are not consecutive\n",
    "print(type(df_ljr10_new.iloc[0, 12]))  # 12 is position of 'last_review'\n",
    "print(df_ljr10_new.iloc[0,12])\n",
    "print(type(df_ljr10_new.iloc[1, 12]))  \n",
    "print(df_ljr10_new.iloc[1,12])\n",
    "print(type(df_ljr10_new.iloc[2, 12]))  \n",
    "print(df_ljr10_new.iloc[2,12])\n",
    "print(type(df_ljr10_new.iloc[3, 12]))  \n",
    "print(df_ljr10_new.iloc[3,12])"
   ]
  },
  {
   "cell_type": "code",
   "execution_count": 173,
   "id": "7a01b9a5-39a0-424f-bac7-43283d278983",
   "metadata": {},
   "outputs": [
    {
     "name": "stdout",
     "output_type": "stream",
     "text": [
      "39202\n",
      "[{'id': '897040470703986366',\n",
      "  'name': 'Rental unit in Brooklyn · ★4.70 · 2 bedrooms · 1 bath',\n",
      "  'host_id': 33817836,\n",
      "  'host_name': 'Eric',\n",
      "  'neighbourhood_group': 'Brooklyn',\n",
      "  'neighbourhood': 'East Flatbush',\n",
      "  'latitude': 40.64865,\n",
      "  'longitude': -73.94508,\n",
      "  'room_type': 'Entire home/apt',\n",
      "  'price': 169.0,\n",
      "  'minimum_nights': 30,\n",
      "  'number_of_reviews': 20,\n",
      "  'last_review': Timestamp('2024-01-31 00:00:00'),\n",
      "  'reviews_per_month': 2.35,\n",
      "  'calculated_host_listings_count': 9,\n",
      "  'availability_365': 180,\n",
      "  'number_of_reviews_ltm': 20,\n",
      "  'license': ''},\n",
      " {'id': '513688',\n",
      "  'name': 'Rental unit in Brooklyn · ★4.89 · 3 bedrooms · 4 beds · 2 baths',\n",
      "  'host_id': 2530670,\n",
      "  'host_name': 'Tiffany',\n",
      "  'neighbourhood_group': 'Brooklyn',\n",
      "  'neighbourhood': 'Boerum Hill',\n",
      "  'latitude': 40.68607,\n",
      "  'longitude': -73.98074,\n",
      "  'room_type': 'Entire home/apt',\n",
      "  'price': nan,\n",
      "  'minimum_nights': 30,\n",
      "  'number_of_reviews': 249,\n",
      "  'last_review': Timestamp('2023-10-20 00:00:00'),\n",
      "  'reviews_per_month': 1.76,\n",
      "  'calculated_host_listings_count': 1,\n",
      "  'availability_365': 0,\n",
      "  'number_of_reviews_ltm': 23,\n",
      "  'license': ''}]\n"
     ]
    }
   ],
   "source": [
    "# recomputing dict_ljr10_new\n",
    "dict_ljr10_new = df_ljr10_new.to_dict('records')\n",
    "print(len(dict_ljr10_new))\n",
    "pprint.pp(dict_ljr10_new[0:2])"
   ]
  },
  {
   "cell_type": "code",
   "execution_count": 174,
   "id": "88ed0cef-8cba-4020-afff-9167a0665d3c",
   "metadata": {},
   "outputs": [
    {
     "name": "stdout",
     "output_type": "stream",
     "text": [
      "\n",
      "There was an error when loading the dictionary into MongoDB:\n",
      "NaTType does not support utcoffset\n"
     ]
    }
   ],
   "source": [
    "# However, the load into MongoDB still fails, because of the NaT values\n",
    "#    As noted above, the convert_time_to_timestamp did not convert the NaT values\n",
    "try:\n",
    "    result = listings_test.insert_many(dict_ljr10_new)\n",
    "    print('\\nLast element of result for the last run was:')\n",
    "    print(result.inserted_ids[-1:])\n",
    "except Exception as e:\n",
    "    print('\\nThere was an error when loading the dictionary into MongoDB:')\n",
    "    print(e)"
   ]
  },
  {
   "cell_type": "markdown",
   "id": "1f25048a-fd84-4ee8-b649-cd7fd35e477e",
   "metadata": {},
   "source": [
    "<span style=color:blue>OK, so let's convert the NaT's in the dictionary rather than in pandas  </span>"
   ]
  },
  {
   "cell_type": "code",
   "execution_count": 175,
   "id": "e15012e9-e042-4fcc-880f-0904de0644b6",
   "metadata": {
    "scrolled": true
   },
   "outputs": [
    {
     "name": "stdout",
     "output_type": "stream",
     "text": [
      "[{'id': '897040470703986366',\n",
      "  'name': 'Rental unit in Brooklyn · ★4.70 · 2 bedrooms · 1 bath',\n",
      "  'host_id': 33817836,\n",
      "  'host_name': 'Eric',\n",
      "  'neighbourhood_group': 'Brooklyn',\n",
      "  'neighbourhood': 'East Flatbush',\n",
      "  'latitude': 40.64865,\n",
      "  'longitude': -73.94508,\n",
      "  'room_type': 'Entire home/apt',\n",
      "  'price': 169.0,\n",
      "  'minimum_nights': 30,\n",
      "  'number_of_reviews': 20,\n",
      "  'last_review': Timestamp('2024-01-31 00:00:00'),\n",
      "  'reviews_per_month': 2.35,\n",
      "  'calculated_host_listings_count': 9,\n",
      "  'availability_365': 180,\n",
      "  'number_of_reviews_ltm': 20,\n",
      "  'license': '',\n",
      "  '_id': ObjectId('665dfd493f5206e632b174a9')},\n",
      " {'id': '513688',\n",
      "  'name': 'Rental unit in Brooklyn · ★4.89 · 3 bedrooms · 4 beds · 2 baths',\n",
      "  'host_id': 2530670,\n",
      "  'host_name': 'Tiffany',\n",
      "  'neighbourhood_group': 'Brooklyn',\n",
      "  'neighbourhood': 'Boerum Hill',\n",
      "  'latitude': 40.68607,\n",
      "  'longitude': -73.98074,\n",
      "  'room_type': 'Entire home/apt',\n",
      "  'price': nan,\n",
      "  'minimum_nights': 30,\n",
      "  'number_of_reviews': 249,\n",
      "  'last_review': Timestamp('2023-10-20 00:00:00'),\n",
      "  'reviews_per_month': 1.76,\n",
      "  'calculated_host_listings_count': 1,\n",
      "  'availability_365': 0,\n",
      "  'number_of_reviews_ltm': 23,\n",
      "  'license': '',\n",
      "  '_id': ObjectId('665dfd493f5206e632b174aa')},\n",
      " {'id': '769786',\n",
      "  'name': 'Rental unit in Brooklyn · ★4.60 · 1 bedroom · 1 bed · 1 bath',\n",
      "  'host_id': 4050489,\n",
      "  'host_name': 'Pete & Halle',\n",
      "  'neighbourhood_group': 'Brooklyn',\n",
      "  'neighbourhood': 'Williamsburg',\n",
      "  'latitude': 40.71302,\n",
      "  'longitude': -73.95215,\n",
      "  'room_type': 'Entire home/apt',\n",
      "  'price': nan,\n",
      "  'minimum_nights': 30,\n",
      "  'number_of_reviews': 40,\n",
      "  'last_review': Timestamp('2016-10-02 00:00:00'),\n",
      "  'reviews_per_month': 0.29,\n",
      "  'calculated_host_listings_count': 1,\n",
      "  'availability_365': 0,\n",
      "  'number_of_reviews_ltm': 0,\n",
      "  'license': '',\n",
      "  '_id': ObjectId('665dfd493f5206e632b174ab')},\n",
      " {'id': '882802659322534873',\n",
      "  'name': 'Rental unit in Brooklyn · ★4.83 · 1 bedroom · 1 bed · 1 bath',\n",
      "  'host_id': 92735223,\n",
      "  'host_name': 'Milos',\n",
      "  'neighbourhood_group': 'Brooklyn',\n",
      "  'neighbourhood': 'Williamsburg',\n",
      "  'latitude': 40.71595,\n",
      "  'longitude': -73.94142,\n",
      "  'room_type': 'Entire home/apt',\n",
      "  'price': 79.0,\n",
      "  'minimum_nights': 30,\n",
      "  'number_of_reviews': 12,\n",
      "  'last_review': Timestamp('2023-10-13 00:00:00'),\n",
      "  'reviews_per_month': 1.36,\n",
      "  'calculated_host_listings_count': 1,\n",
      "  'availability_365': 157,\n",
      "  'number_of_reviews_ltm': 12,\n",
      "  'license': '',\n",
      "  '_id': ObjectId('665dfd493f5206e632b174ac')},\n",
      " {'id': '112435',\n",
      "  'name': 'Home in Brooklyn · ★4.63 · 1 bedroom · 1 bed · 1 bath',\n",
      "  'host_id': 181376,\n",
      "  'host_name': 'Carol',\n",
      "  'neighbourhood_group': 'Brooklyn',\n",
      "  'neighbourhood': 'Fort Greene',\n",
      "  'latitude': 40.69132,\n",
      "  'longitude': -73.97306,\n",
      "  'room_type': 'Private room',\n",
      "  'price': 95.0,\n",
      "  'minimum_nights': 30,\n",
      "  'number_of_reviews': 178,\n",
      "  'last_review': Timestamp('2023-10-31 00:00:00'),\n",
      "  'reviews_per_month': 1.16,\n",
      "  'calculated_host_listings_count': 2,\n",
      "  'availability_365': 365,\n",
      "  'number_of_reviews_ltm': 1,\n",
      "  'license': '',\n",
      "  '_id': ObjectId('665dfd493f5206e632b174ad')},\n",
      " {'id': '433414',\n",
      "  'name': 'Rental unit in Brooklyn · ★4.85 · 1 bedroom · 1 bed · 1 bath',\n",
      "  'host_id': 287733,\n",
      "  'host_name': 'David',\n",
      "  'neighbourhood_group': 'Brooklyn',\n",
      "  'neighbourhood': 'Clinton Hill',\n",
      "  'latitude': 40.68566,\n",
      "  'longitude': -73.96781,\n",
      "  'room_type': 'Entire home/apt',\n",
      "  'price': 150.0,\n",
      "  'minimum_nights': 30,\n",
      "  'number_of_reviews': 111,\n",
      "  'last_review': Timestamp('2023-12-29 00:00:00'),\n",
      "  'reviews_per_month': 0.78,\n",
      "  'calculated_host_listings_count': 1,\n",
      "  'availability_365': 235,\n",
      "  'number_of_reviews_ltm': 4,\n",
      "  'license': '',\n",
      "  '_id': ObjectId('665dfd493f5206e632b174ae')},\n",
      " {'id': '21934873',\n",
      "  'name': 'Rental unit in New York · ★4.60 · Studio · 1 bed · 1 bath',\n",
      "  'host_id': 120762452,\n",
      "  'host_name': 'Stanley',\n",
      "  'neighbourhood_group': 'Manhattan',\n",
      "  'neighbourhood': 'Murray Hill',\n",
      "  'latitude': 40.74926,\n",
      "  'longitude': -73.97643,\n",
      "  'room_type': 'Entire home/apt',\n",
      "  'price': 110.0,\n",
      "  'minimum_nights': 30,\n",
      "  'number_of_reviews': 5,\n",
      "  'last_review': Timestamp('2021-06-14 00:00:00'),\n",
      "  'reviews_per_month': 0.08,\n",
      "  'calculated_host_listings_count': 83,\n",
      "  'availability_365': 365,\n",
      "  'number_of_reviews_ltm': 0,\n",
      "  'license': '',\n",
      "  '_id': ObjectId('665dfd493f5206e632b174af')},\n",
      " {'id': '51619634',\n",
      "  'name': 'Rental unit in New York · ★4.88 · 1 bedroom · 1 bed · 1 bath',\n",
      "  'host_id': 158969505,\n",
      "  'host_name': 'Untitled',\n",
      "  'neighbourhood_group': 'Manhattan',\n",
      "  'neighbourhood': 'Lower East Side',\n",
      "  'latitude': 40.72301,\n",
      "  'longitude': -73.99201,\n",
      "  'room_type': 'Entire home/apt',\n",
      "  'price': 121.0,\n",
      "  'minimum_nights': 1,\n",
      "  'number_of_reviews': 1275,\n",
      "  'last_review': Timestamp('2024-01-23 00:00:00'),\n",
      "  'reviews_per_month': 42.5,\n",
      "  'calculated_host_listings_count': 12,\n",
      "  'availability_365': 0,\n",
      "  'number_of_reviews_ltm': 1163,\n",
      "  'license': 'Exempt',\n",
      "  '_id': ObjectId('665dfd493f5206e632b174b0')},\n",
      " {'id': '841368449428969241',\n",
      "  'name': 'Rental unit in Brooklyn · ★4.95 · 2 bedrooms · 2 beds · 1 bath',\n",
      "  'host_id': 49137729,\n",
      "  'host_name': 'Kimmy',\n",
      "  'neighbourhood_group': 'Brooklyn',\n",
      "  'neighbourhood': 'Bedford-Stuyvesant',\n",
      "  'latitude': 40.6814,\n",
      "  'longitude': -73.95375,\n",
      "  'room_type': 'Entire home/apt',\n",
      "  'price': nan,\n",
      "  'minimum_nights': 356,\n",
      "  'number_of_reviews': 18,\n",
      "  'last_review': Timestamp('2023-10-11 00:00:00'),\n",
      "  'reviews_per_month': 1.81,\n",
      "  'calculated_host_listings_count': 1,\n",
      "  'availability_365': 0,\n",
      "  'number_of_reviews_ltm': 18,\n",
      "  'license': '',\n",
      "  '_id': ObjectId('665dfd493f5206e632b174b1')},\n",
      " {'id': '1797025',\n",
      "  'name': 'Rental unit in Brooklyn · ★4.65 · 1 bedroom · 1 bed · 1 bath',\n",
      "  'host_id': 9340104,\n",
      "  'host_name': 'Mike',\n",
      "  'neighbourhood_group': 'Brooklyn',\n",
      "  'neighbourhood': 'Crown Heights',\n",
      "  'latitude': 40.67164,\n",
      "  'longitude': -73.95175,\n",
      "  'room_type': 'Entire home/apt',\n",
      "  'price': 125.0,\n",
      "  'minimum_nights': 30,\n",
      "  'number_of_reviews': 172,\n",
      "  'last_review': Timestamp('2023-09-20 00:00:00'),\n",
      "  'reviews_per_month': 1.38,\n",
      "  'calculated_host_listings_count': 1,\n",
      "  'availability_365': 258,\n",
      "  'number_of_reviews_ltm': 4,\n",
      "  'license': '',\n",
      "  '_id': ObjectId('665dfd493f5206e632b174b2')}]\n"
     ]
    }
   ],
   "source": [
    "for doc in dict_ljr10_new:\n",
    "    if pd.isnull(doc['last_review']): \n",
    "        doc['last_review'] = None\n",
    "\n",
    "pprint.pp(dict_ljr10_new[0:10])"
   ]
  },
  {
   "cell_type": "markdown",
   "id": "92da20e8-7142-4316-bd8c-44d0e688a4ee",
   "metadata": {},
   "source": [
    "<span style=color:blue>Now trying the load again    </span>"
   ]
  },
  {
   "cell_type": "code",
   "execution_count": 176,
   "id": "8cccf1f7-bbd3-4203-87ea-193652bd5ee4",
   "metadata": {},
   "outputs": [
    {
     "name": "stdout",
     "output_type": "stream",
     "text": [
      "\n",
      "Last element of result for the last run was:\n",
      "[ObjectId('665dfd493f5206e632b20dca')]\n"
     ]
    }
   ],
   "source": [
    "try:\n",
    "    result = listings_test.insert_many(dict_ljr10_new)\n",
    "    print('\\nLast element of result for the last run was:')\n",
    "    print(result.inserted_ids[-1:])\n",
    "except Exception as e:\n",
    "    print('\\nThere was an error when loading the dictionary into MongoDB:')\n",
    "    print(e)"
   ]
  },
  {
   "cell_type": "markdown",
   "id": "df057a93-e68f-4c65-82e7-6c4f8f2f9534",
   "metadata": {},
   "source": [
    "<span style=color:blue>Now we add, for each listing, a list of all reviews for that listing     </span>"
   ]
  },
  {
   "cell_type": "code",
   "execution_count": 178,
   "id": "bbbcf116-c243-4d4e-9286-062ed682da5e",
   "metadata": {
    "scrolled": true
   },
   "outputs": [
    {
     "name": "stdout",
     "output_type": "stream",
     "text": [
      "Have now completed step number: 1000 and it took 95.909551 seconds\n",
      "Have now completed step number: 2000 and it took 90.954787 seconds\n",
      "Have now completed step number: 3000 and it took 93.481388 seconds\n",
      "Have now completed step number: 4000 and it took 87.021799 seconds\n",
      "Have now completed step number: 5000 and it took 90.997289 seconds\n",
      "Have now completed step number: 6000 and it took 89.153266 seconds\n",
      "Have now completed step number: 7000 and it took 108.153255 seconds\n",
      "Have now completed step number: 8000 and it took 88.068773 seconds\n",
      "Have now completed step number: 9000 and it took 154.371538 seconds\n",
      "Have now completed step number: 10000 and it took 115.892938 seconds\n",
      "Have now completed step number: 11000 and it took 104.153967 seconds\n",
      "Have now completed step number: 12000 and it took 108.991405 seconds\n",
      "Have now completed step number: 13000 and it took 100.057489 seconds\n",
      "Have now completed step number: 14000 and it took 92.921952 seconds\n",
      "Have now completed step number: 15000 and it took 97.061438 seconds\n",
      "Have now completed step number: 16000 and it took 101.745031 seconds\n",
      "Have now completed step number: 17000 and it took 103.059596 seconds\n",
      "Have now completed step number: 18000 and it took 85.310025 seconds\n",
      "Have now completed step number: 19000 and it took 86.11304 seconds\n",
      "Have now completed step number: 20000 and it took 115.233301 seconds\n",
      "Have now completed step number: 21000 and it took 98.827905 seconds\n",
      "Have now completed step number: 22000 and it took 107.448561 seconds\n",
      "Have now completed step number: 23000 and it took 102.176955 seconds\n",
      "Have now completed step number: 24000 and it took 101.616112 seconds\n",
      "Have now completed step number: 25000 and it took 92.728178 seconds\n",
      "Have now completed step number: 26000 and it took 105.337039 seconds\n",
      "Have now completed step number: 27000 and it took 106.474386 seconds\n",
      "Have now completed step number: 28000 and it took 115.357253 seconds\n",
      "Have now completed step number: 29000 and it took 102.21776 seconds\n",
      "Have now completed step number: 30000 and it took 96.527011 seconds\n",
      "Have now completed step number: 31000 and it took 94.773853 seconds\n",
      "Have now completed step number: 32000 and it took 91.339112 seconds\n",
      "Have now completed step number: 33000 and it took 96.13466 seconds\n",
      "Have now completed step number: 34000 and it took 95.195333 seconds\n",
      "Have now completed step number: 35000 and it took 84.292965 seconds\n",
      "Have now completed step number: 36000 and it took 86.054505 seconds\n",
      "Have now completed step number: 37000 and it took 87.573592 seconds\n",
      "Have now completed step number: 38000 and it took 92.727289 seconds\n",
      "Have now completed step number: 39000 and it took 85.938785 seconds\n",
      "\n",
      "39202\n",
      "\n",
      "[{'id': '31794109',\n",
      "  'name': 'Rental unit in New York · Studio · 1 bed · 1 bath',\n",
      "  'host_id': 107434423,\n",
      "  'host_name': 'Blueground',\n",
      "  'neighbourhood_group': 'Manhattan',\n",
      "  'neighbourhood': 'Chelsea',\n",
      "  'latitude': 40.75301,\n",
      "  'longitude': -73.99593,\n",
      "  'room_type': 'Entire home/apt',\n",
      "  'price': 235.0,\n",
      "  'minimum_nights': 31,\n",
      "  'number_of_reviews': 0,\n",
      "  'last_review': None,\n",
      "  'reviews_per_month': nan,\n",
      "  'calculated_host_listings_count': 827,\n",
      "  'availability_365': 345,\n",
      "  'number_of_reviews_ltm': 0,\n",
      "  'license': '',\n",
      "  '_id': ObjectId('665dfd493f5206e632b20dc1'),\n",
      "  'reviews': {}},\n",
      " {'id': '1004175823930432876',\n",
      "  'name': 'Rental unit in Queens · 4 bedrooms · 1 bed · 0 shared baths',\n",
      "  'host_id': 305240193,\n",
      "  'host_name': 'June',\n",
      "  'neighbourhood_group': 'Queens',\n",
      "  'neighbourhood': 'Astoria',\n",
      "  'latitude': 40.76726,\n",
      "  'longitude': -73.91373,\n",
      "  'room_type': 'Private room',\n",
      "  'price': 61.0,\n",
      "  'minimum_nights': 30,\n",
      "  'number_of_reviews': 0,\n",
      "  'last_review': None,\n",
      "  'reviews_per_month': nan,\n",
      "  'calculated_host_listings_count': 333,\n",
      "  'availability_365': 311,\n",
      "  'number_of_reviews_ltm': 0,\n",
      "  'license': '',\n",
      "  '_id': ObjectId('665dfd493f5206e632b20dc2'),\n",
      "  'reviews': {}},\n",
      " {'id': '1013126854297515145',\n",
      "  'name': 'Rental unit in New York · 1 bedroom · 1 bed · 1 shared bath',\n",
      "  'host_id': 536707225,\n",
      "  'host_name': 'Carmen',\n",
      "  'neighbourhood_group': 'Manhattan',\n",
      "  'neighbourhood': 'Gramercy',\n",
      "  'latitude': 40.73763,\n",
      "  'longitude': -73.98369,\n",
      "  'room_type': 'Private room',\n",
      "  'price': 106.0,\n",
      "  'minimum_nights': 3,\n",
      "  'number_of_reviews': 0,\n",
      "  'last_review': None,\n",
      "  'reviews_per_month': nan,\n",
      "  'calculated_host_listings_count': 1,\n",
      "  'availability_365': 208,\n",
      "  'number_of_reviews_ltm': 0,\n",
      "  'license': 'Exempt',\n",
      "  '_id': ObjectId('665dfd493f5206e632b20dc3'),\n",
      "  'reviews': {}},\n",
      " {'id': '954583134314301386',\n",
      "  'name': 'Home in Queens · ★New · 8 bedrooms · 8 beds · 4 baths',\n",
      "  'host_id': 530960752,\n",
      "  'host_name': 'Marie',\n",
      "  'neighbourhood_group': 'Queens',\n",
      "  'neighbourhood': 'Cambria Heights',\n",
      "  'latitude': 40.695374,\n",
      "  'longitude': -73.73751,\n",
      "  'room_type': 'Entire home/apt',\n",
      "  'price': 400.0,\n",
      "  'minimum_nights': 30,\n",
      "  'number_of_reviews': 0,\n",
      "  'last_review': None,\n",
      "  'reviews_per_month': nan,\n",
      "  'calculated_host_listings_count': 1,\n",
      "  'availability_365': 269,\n",
      "  'number_of_reviews_ltm': 0,\n",
      "  'license': '',\n",
      "  '_id': ObjectId('665dfd493f5206e632b20dc4'),\n",
      "  'reviews': {}},\n",
      " {'id': '44463986',\n",
      "  'name': 'Rental unit in Brooklyn · Studio · 2 beds · 1 bath',\n",
      "  'host_id': 154506785,\n",
      "  'host_name': 'Dan',\n",
      "  'neighbourhood_group': 'Brooklyn',\n",
      "  'neighbourhood': 'Williamsburg',\n",
      "  'latitude': 40.71874,\n",
      "  'longitude': -73.95965,\n",
      "  'room_type': 'Entire home/apt',\n",
      "  'price': 275.0,\n",
      "  'minimum_nights': 30,\n",
      "  'number_of_reviews': 0,\n",
      "  'last_review': None,\n",
      "  'reviews_per_month': nan,\n",
      "  'calculated_host_listings_count': 3,\n",
      "  'availability_365': 157,\n",
      "  'number_of_reviews_ltm': 0,\n",
      "  'license': '',\n",
      "  '_id': ObjectId('665dfd493f5206e632b20dc5'),\n",
      "  'reviews': {}},\n",
      " {'id': '11098018',\n",
      "  'name': 'Rental unit in New York · 1 bedroom · 1 bed · 1 bath',\n",
      "  'host_id': 10199059,\n",
      "  'host_name': 'Manasvi',\n",
      "  'neighbourhood_group': 'Brooklyn',\n",
      "  'neighbourhood': 'Bushwick',\n",
      "  'latitude': 40.69712,\n",
      "  'longitude': -73.93055,\n",
      "  'room_type': 'Private room',\n",
      "  'price': nan,\n",
      "  'minimum_nights': 30,\n",
      "  'number_of_reviews': 0,\n",
      "  'last_review': None,\n",
      "  'reviews_per_month': nan,\n",
      "  'calculated_host_listings_count': 1,\n",
      "  'availability_365': 0,\n",
      "  'number_of_reviews_ltm': 0,\n",
      "  'license': '',\n",
      "  '_id': ObjectId('665dfd493f5206e632b20dc6'),\n",
      "  'reviews': {}},\n",
      " {'id': '17601315',\n",
      "  'name': 'Rental unit in New York · 2 bedrooms · 2 beds · 1 bath',\n",
      "  'host_id': 975819,\n",
      "  'host_name': 'Chendi',\n",
      "  'neighbourhood_group': 'Manhattan',\n",
      "  'neighbourhood': 'Nolita',\n",
      "  'latitude': 40.7214,\n",
      "  'longitude': -73.99616,\n",
      "  'room_type': 'Entire home/apt',\n",
      "  'price': nan,\n",
      "  'minimum_nights': 30,\n",
      "  'number_of_reviews': 0,\n",
      "  'last_review': None,\n",
      "  'reviews_per_month': nan,\n",
      "  'calculated_host_listings_count': 1,\n",
      "  'availability_365': 0,\n",
      "  'number_of_reviews_ltm': 0,\n",
      "  'license': '',\n",
      "  '_id': ObjectId('665dfd493f5206e632b20dc7'),\n",
      "  'reviews': {}},\n",
      " {'id': '639664591087069915',\n",
      "  'name': 'Rental unit in Bronx · 1 bedroom · 1 bed · 1 bath',\n",
      "  'host_id': 74103802,\n",
      "  'host_name': 'Carl',\n",
      "  'neighbourhood_group': 'Bronx',\n",
      "  'neighbourhood': 'Morris Park',\n",
      "  'latitude': 40.85054,\n",
      "  'longitude': -73.86482,\n",
      "  'room_type': 'Entire home/apt',\n",
      "  'price': 125.0,\n",
      "  'minimum_nights': 30,\n",
      "  'number_of_reviews': 0,\n",
      "  'last_review': None,\n",
      "  'reviews_per_month': nan,\n",
      "  'calculated_host_listings_count': 1,\n",
      "  'availability_365': 364,\n",
      "  'number_of_reviews_ltm': 0,\n",
      "  'license': '',\n",
      "  '_id': ObjectId('665dfd493f5206e632b20dc8'),\n",
      "  'reviews': {}},\n",
      " {'id': '869434362358340890',\n",
      "  'name': 'Rental unit in Brooklyn · 1 bedroom · 1 bed · 1 private bath',\n",
      "  'host_id': 124028462,\n",
      "  'host_name': 'Outpost Club',\n",
      "  'neighbourhood_group': 'Brooklyn',\n",
      "  'neighbourhood': 'Bedford-Stuyvesant',\n",
      "  'latitude': 40.689587,\n",
      "  'longitude': -73.93745,\n",
      "  'room_type': 'Private room',\n",
      "  'price': 43.0,\n",
      "  'minimum_nights': 30,\n",
      "  'number_of_reviews': 0,\n",
      "  'last_review': None,\n",
      "  'reviews_per_month': nan,\n",
      "  'calculated_host_listings_count': 12,\n",
      "  'availability_365': 364,\n",
      "  'number_of_reviews_ltm': 0,\n",
      "  'license': '',\n",
      "  '_id': ObjectId('665dfd493f5206e632b20dc9'),\n",
      "  'reviews': {}},\n",
      " {'id': '762393507139462217',\n",
      "  'name': 'Hotel in New York · 1 bedroom · 2 beds · 1 private bath',\n",
      "  'host_id': 202829797,\n",
      "  'host_name': 'Crystal',\n",
      "  'neighbourhood_group': 'Manhattan',\n",
      "  'neighbourhood': 'Murray Hill',\n",
      "  'latitude': 40.749428,\n",
      "  'longitude': -73.97196,\n",
      "  'room_type': 'Private room',\n",
      "  'price': nan,\n",
      "  'minimum_nights': 30,\n",
      "  'number_of_reviews': 0,\n",
      "  'last_review': None,\n",
      "  'reviews_per_month': nan,\n",
      "  'calculated_host_listings_count': 3,\n",
      "  'availability_365': 364,\n",
      "  'number_of_reviews_ltm': 0,\n",
      "  'license': '',\n",
      "  '_id': ObjectId('665dfd493f5206e632b20dca'),\n",
      "  'reviews': {}}]\n"
     ]
    }
   ],
   "source": [
    "i = 0\n",
    "\n",
    "# We will keep track of the time to do each 1000 listings\n",
    "time1 = datetime.now()\n",
    "\n",
    "\n",
    "for d in dict_ljr10_new:\n",
    "    i += 1\n",
    "\n",
    "    # building a df with just reviews info, and corresponding to the listing we are focusing on\n",
    "    df_reviews_one_listing = df_ljr10.loc[df_ljr10['id'] == d['id']].drop(cols_of_listings, axis=1)\n",
    "\n",
    "    # Note: This does not run super quickly.  As an alternative I tried pulling this \n",
    "    #    data with a query against PostgreSQL, but it was even slower\n",
    "\n",
    "    # there are no null values in the 'date' column of reviews, so we can do the\n",
    "    #    date to datetime conversion using pandas\n",
    "    df_reviews_one_listing['date'] = df_reviews_one_listing['date'].apply(lambda x: convert_date_to_datetime(x))\n",
    "\n",
    "    dicts_reviews_one_listing = df_reviews_one_listing.to_dict('records')\n",
    "\n",
    "    # Need special handling for the case of no reviews \n",
    "    if len(dicts_reviews_one_listing) == 1 and dicts_reviews_one_listing[0]['review_id'] is None:\n",
    "        d['reviews'] = {}\n",
    "    else:\n",
    "        d['reviews'] = dicts_reviews_one_listing\n",
    "\n",
    "    if i % 1000 == 0:\n",
    "        time2 = datetime.now()\n",
    "        time_taken = util.time_diff(time1,time2)\n",
    "        print('Have now completed step number:', str(i), 'and it took', str(time_taken), 'seconds' )\n",
    "        time1 = datetime.now()\n",
    "\n",
    "    # given the time it takes to do 1000 listings, how long will it take to do all of the listings?\n",
    "\n",
    "print()\n",
    "print(len(dict_ljr10_new))\n",
    "print()\n",
    "pprint.pp(dict_ljr10_new[-10:])"
   ]
  },
  {
   "cell_type": "markdown",
   "id": "236925db-c088-4fa2-83f5-096916f5d9b7",
   "metadata": {},
   "source": [
    "<span style=color:blue>Sanity check, that we did not lose any listings </span>"
   ]
  },
  {
   "cell_type": "code",
   "execution_count": 196,
   "id": "e052b6ff-fbe8-4953-9db3-7e4d69f9053e",
   "metadata": {},
   "outputs": [
    {
     "name": "stdout",
     "output_type": "stream",
     "text": [
      "39202\n"
     ]
    }
   ],
   "source": [
    "print(len(dict_ljr10_new))"
   ]
  },
  {
   "cell_type": "markdown",
   "id": "8e3f1a97-44bc-45dd-8c8e-8baa25e4f61e",
   "metadata": {},
   "source": [
    "<span style=color:blue>Now loading dict_ljr10_new into mongodb.   </span>\n",
    "\n",
    "<span style=color:blue>The loading is done 100 documents at a time, with a last small lot </span>"
   ]
  },
  {
   "cell_type": "code",
   "execution_count": 212,
   "id": "3770eecb-fc64-49d9-8df1-e3ed69216b38",
   "metadata": {},
   "outputs": [
    {
     "name": "stdout",
     "output_type": "stream",
     "text": [
      "2\n",
      "39202\n"
     ]
    }
   ],
   "source": [
    "print(len(dict_ljr10_new) % 100)\n",
    "print(len(dict_ljr10_new))"
   ]
  },
  {
   "cell_type": "code",
   "execution_count": 182,
   "id": "02cd44ac-c475-4648-930e-6d0df81c3825",
   "metadata": {
    "scrolled": true
   },
   "outputs": [
    {
     "name": "stdout",
     "output_type": "stream",
     "text": [
      "Have now completed step number: 0 and it took 0.655299 seconds\n",
      "Have now completed step number: 1 and it took 0.398229 seconds\n",
      "Have now completed step number: 2 and it took 0.375838 seconds\n",
      "Have now completed step number: 3 and it took 0.259969 seconds\n",
      "Have now completed step number: 4 and it took 0.224444 seconds\n",
      "Have now completed step number: 5 and it took 0.182194 seconds\n",
      "Have now completed step number: 6 and it took 0.210087 seconds\n",
      "Have now completed step number: 7 and it took 0.23307 seconds\n",
      "Have now completed step number: 8 and it took 0.149034 seconds\n",
      "Have now completed step number: 9 and it took 0.119776 seconds\n",
      "Have now completed step number: 10 and it took 0.132876 seconds\n",
      "Have now completed step number: 11 and it took 0.103347 seconds\n",
      "Have now completed step number: 12 and it took 0.083753 seconds\n",
      "Have now completed step number: 13 and it took 0.111682 seconds\n",
      "Have now completed step number: 14 and it took 0.088752 seconds\n",
      "Have now completed step number: 15 and it took 0.126912 seconds\n",
      "Have now completed step number: 16 and it took 0.092003 seconds\n",
      "Have now completed step number: 17 and it took 0.077383 seconds\n",
      "Have now completed step number: 18 and it took 0.101259 seconds\n",
      "Have now completed step number: 19 and it took 0.106682 seconds\n",
      "Have now completed step number: 20 and it took 0.082034 seconds\n",
      "Have now completed step number: 21 and it took 0.079966 seconds\n",
      "Have now completed step number: 22 and it took 0.088903 seconds\n",
      "Have now completed step number: 23 and it took 0.071961 seconds\n",
      "Have now completed step number: 24 and it took 0.079532 seconds\n",
      "Have now completed step number: 25 and it took 0.067053 seconds\n",
      "Have now completed step number: 26 and it took 0.096266 seconds\n",
      "Have now completed step number: 27 and it took 0.09156 seconds\n",
      "Have now completed step number: 28 and it took 0.076166 seconds\n",
      "Have now completed step number: 29 and it took 0.051868 seconds\n",
      "Have now completed step number: 30 and it took 0.035167 seconds\n",
      "Have now completed step number: 31 and it took 0.046687 seconds\n",
      "Have now completed step number: 32 and it took 0.068843 seconds\n",
      "\n",
      "The last ObjectID in the collection is:\n",
      "[ObjectId('665dfd493f5206e632b1818c')]\n",
      "\n",
      "The time for this run was:\n",
      "4.772407\n",
      "\n",
      "The total number of documents in the collection db.listings is now:\n",
      "39202\n",
      "\n",
      "Last few ObjectIds of result for the last run was:\n",
      "[ObjectId('665dfd493f5206e632b20dc6'), ObjectId('665dfd493f5206e632b20dc7'), ObjectId('665dfd493f5206e632b20dc8'), ObjectId('665dfd493f5206e632b20dc9'), ObjectId('665dfd493f5206e632b20dca')]\n",
      "\n",
      "The last few documents of result for the last run was:\n",
      "[{'_id': ObjectId('665dfd493f5206e632b20dc6'),\n",
      "  'id': '11098018',\n",
      "  'name': 'Rental unit in New York · 1 bedroom · 1 bed · 1 bath',\n",
      "  'host_id': 10199059,\n",
      "  'host_name': 'Manasvi',\n",
      "  'neighbourhood_group': 'Brooklyn',\n",
      "  'neighbourhood': 'Bushwick',\n",
      "  'latitude': 40.69712,\n",
      "  'longitude': -73.93055,\n",
      "  'room_type': 'Private room',\n",
      "  'price': nan,\n",
      "  'minimum_nights': 30,\n",
      "  'number_of_reviews': 0,\n",
      "  'last_review': None,\n",
      "  'reviews_per_month': nan,\n",
      "  'calculated_host_listings_count': 1,\n",
      "  'availability_365': 0,\n",
      "  'number_of_reviews_ltm': 0,\n",
      "  'license': '',\n",
      "  'reviews': {}},\n",
      " {'_id': ObjectId('665dfd493f5206e632b20dc7'),\n",
      "  'id': '17601315',\n",
      "  'name': 'Rental unit in New York · 2 bedrooms · 2 beds · 1 bath',\n",
      "  'host_id': 975819,\n",
      "  'host_name': 'Chendi',\n",
      "  'neighbourhood_group': 'Manhattan',\n",
      "  'neighbourhood': 'Nolita',\n",
      "  'latitude': 40.7214,\n",
      "  'longitude': -73.99616,\n",
      "  'room_type': 'Entire home/apt',\n",
      "  'price': nan,\n",
      "  'minimum_nights': 30,\n",
      "  'number_of_reviews': 0,\n",
      "  'last_review': None,\n",
      "  'reviews_per_month': nan,\n",
      "  'calculated_host_listings_count': 1,\n",
      "  'availability_365': 0,\n",
      "  'number_of_reviews_ltm': 0,\n",
      "  'license': '',\n",
      "  'reviews': {}},\n",
      " {'_id': ObjectId('665dfd493f5206e632b20dc8'),\n",
      "  'id': '639664591087069915',\n",
      "  'name': 'Rental unit in Bronx · 1 bedroom · 1 bed · 1 bath',\n",
      "  'host_id': 74103802,\n",
      "  'host_name': 'Carl',\n",
      "  'neighbourhood_group': 'Bronx',\n",
      "  'neighbourhood': 'Morris Park',\n",
      "  'latitude': 40.85054,\n",
      "  'longitude': -73.86482,\n",
      "  'room_type': 'Entire home/apt',\n",
      "  'price': 125.0,\n",
      "  'minimum_nights': 30,\n",
      "  'number_of_reviews': 0,\n",
      "  'last_review': None,\n",
      "  'reviews_per_month': nan,\n",
      "  'calculated_host_listings_count': 1,\n",
      "  'availability_365': 364,\n",
      "  'number_of_reviews_ltm': 0,\n",
      "  'license': '',\n",
      "  'reviews': {}},\n",
      " {'_id': ObjectId('665dfd493f5206e632b20dc9'),\n",
      "  'id': '869434362358340890',\n",
      "  'name': 'Rental unit in Brooklyn · 1 bedroom · 1 bed · 1 private bath',\n",
      "  'host_id': 124028462,\n",
      "  'host_name': 'Outpost Club',\n",
      "  'neighbourhood_group': 'Brooklyn',\n",
      "  'neighbourhood': 'Bedford-Stuyvesant',\n",
      "  'latitude': 40.689587,\n",
      "  'longitude': -73.93745,\n",
      "  'room_type': 'Private room',\n",
      "  'price': 43.0,\n",
      "  'minimum_nights': 30,\n",
      "  'number_of_reviews': 0,\n",
      "  'last_review': None,\n",
      "  'reviews_per_month': nan,\n",
      "  'calculated_host_listings_count': 12,\n",
      "  'availability_365': 364,\n",
      "  'number_of_reviews_ltm': 0,\n",
      "  'license': '',\n",
      "  'reviews': {}},\n",
      " {'_id': ObjectId('665dfd493f5206e632b20dca'),\n",
      "  'id': '762393507139462217',\n",
      "  'name': 'Hotel in New York · 1 bedroom · 2 beds · 1 private bath',\n",
      "  'host_id': 202829797,\n",
      "  'host_name': 'Crystal',\n",
      "  'neighbourhood_group': 'Manhattan',\n",
      "  'neighbourhood': 'Murray Hill',\n",
      "  'latitude': 40.749428,\n",
      "  'longitude': -73.97196,\n",
      "  'room_type': 'Private room',\n",
      "  'price': nan,\n",
      "  'minimum_nights': 30,\n",
      "  'number_of_reviews': 0,\n",
      "  'last_review': None,\n",
      "  'reviews_per_month': nan,\n",
      "  'calculated_host_listings_count': 3,\n",
      "  'availability_365': 364,\n",
      "  'number_of_reviews_ltm': 0,\n",
      "  'license': '',\n",
      "  'reviews': {}}]\n"
     ]
    }
   ],
   "source": [
    "# CAUTION: the first step here erases db.listing\n",
    "#    I have kept this here during testing\n",
    "#db.listings.drop()\n",
    "\n",
    "\n",
    "listings = db.listings\n",
    "\n",
    "time0 = datetime.now()\n",
    "time1 = datetime.now()\n",
    "\n",
    "for i in range(0,33):\n",
    "# for i in range(0,10):\n",
    "    result = listings.insert_many(dict_ljr10_new[100*i:100*(i+1)])\n",
    "\n",
    "    time2 = datetime.now()\n",
    "    time_taken = util.time_diff(time1,time2)\n",
    "    print('Have now completed step number:', str(i), 'and it took', str(time_taken), 'seconds' )\n",
    "    time1 = datetime.now()\n",
    "    \n",
    "time3 = datetime.now()\n",
    "\n",
    "\n",
    "print('\\nThe last ObjectID in the collection is:')\n",
    "print(result.inserted_ids[-1:])\n",
    "\n",
    "# print('\\nThe time to do the load of 39K documents into local mongodb, with a total of about 300MB was:')\n",
    "print('\\nThe time for this run was:')\n",
    "print(util.time_diff(time0,time3))\n",
    "\n",
    "\n",
    "\n",
    "# this is for the last 13 records in dict_ljr10_new, but built for arbitrary number of records\n",
    "result = listings.insert_many(dict_ljr10_new[3300:])\n",
    "\n",
    "\n",
    "print('\\nThe total number of documents in the collection db.listings is now:')\n",
    "print(listings.count_documents({}))\n",
    "\n",
    "print('\\nLast few ObjectIds of result for the last run was:')\n",
    "print(result.inserted_ids[-5:])\n",
    "\n",
    "print('\\nThe last few documents of result for the last run was:')\n",
    "# Curiously, the next line fetches only the object ids, not the full documents\n",
    "# out = listings.find({'_id' : {'$in' : result.inserted_ids[-5:]} } )\n",
    "# pprint.pp(out)\n",
    "outdocs = []\n",
    "for o in result.inserted_ids[-5:]:\n",
    "    outdocs.append(listings.find_one({ '_id': o}))\n",
    "pprint.pp(outdocs)"
   ]
  },
  {
   "cell_type": "markdown",
   "id": "02070548-24a4-4137-be46-055b54f85cc9",
   "metadata": {},
   "source": [
    "<span style=color:blue>Here is a query testing against the 'last_review' values    </span>"
   ]
  },
  {
   "cell_type": "code",
   "execution_count": 197,
   "id": "e9cff806-c2b4-416d-ab4d-01efe9889d18",
   "metadata": {},
   "outputs": [
    {
     "name": "stdout",
     "output_type": "stream",
     "text": [
      "24534\n"
     ]
    }
   ],
   "source": [
    "cursor = listings.find( { 'last_review' : { '$lte' : datetime(2024,1,1,0,0,0,0)}})\n",
    "l = list(cursor)\n",
    "print(len(l))\n",
    "# pprint.pp(l)"
   ]
  },
  {
   "cell_type": "markdown",
   "id": "a82c1506",
   "metadata": {},
   "source": [
    "<h1>My Code (DO NOT RUN CODE ABOVE WILL MESS UP DATA)</h1>"
   ]
  },
  {
   "cell_type": "code",
   "execution_count": 9,
   "id": "497e7e53",
   "metadata": {},
   "outputs": [],
   "source": [
    "from pymongo import MongoClient\n",
    "\n",
    "client = MongoClient()\n",
    "db = client.airbnb\n",
    "listings = db.listings"
   ]
  },
  {
   "cell_type": "code",
   "execution_count": 10,
   "id": "4ff9ae28",
   "metadata": {},
   "outputs": [
    {
     "name": "stdout",
     "output_type": "stream",
     "text": [
      "Query 1: 3685\n"
     ]
    }
   ],
   "source": [
    "\n",
    "query_1 = listings.count_documents({\n",
    "    \"last_review\": {\n",
    "        \"$gte\": datetime(2021, 2, 1),\n",
    "        \"$lte\": datetime(2023, 3, 15)\n",
    "    }\n",
    "})\n",
    "print(\"Query 1:\", query_1)\n"
   ]
  },
  {
   "cell_type": "code",
   "execution_count": 11,
   "id": "080e4e47",
   "metadata": {},
   "outputs": [
    {
     "name": "stdout",
     "output_type": "stream",
     "text": [
      "Query 2: 5658\n"
     ]
    }
   ],
   "source": [
    "query_2 = [\n",
    "    {\n",
    "        \"$match\": {\n",
    "            \"reviews\": {\"$exists\": True, \"$type\": \"array\"}\n",
    "        }\n",
    "    },\n",
    "    {\n",
    "        \"$project\": {\n",
    "            \"numberOfReviews\": {\"$size\": \"$reviews\"}\n",
    "        }\n",
    "    },\n",
    "    {\n",
    "        \"$match\": {\n",
    "            \"numberOfReviews\": {\"$gte\": 50}\n",
    "        }\n",
    "    },\n",
    "    {\n",
    "        \"$count\": \"50Reviews\"\n",
    "    }\n",
    "]\n",
    "\n",
    "# Execute the aggregation pipeline\n",
    "query_2 = list(listings.aggregate(query_2))\n",
    "query_2 = query_2[0]['50Reviews']\n",
    "print(\"Query 2:\", query_2)"
   ]
  },
  {
   "cell_type": "code",
   "execution_count": 12,
   "id": "1c33b796",
   "metadata": {},
   "outputs": [
    {
     "name": "stdout",
     "output_type": "stream",
     "text": [
      "Query 3: 15890\n"
     ]
    }
   ],
   "source": [
    "query_3 = [\n",
    "    {\n",
    "        \"$match\": {\n",
    "            \"reviews\": {\n",
    "                \"$elemMatch\": {\n",
    "                    \"comments\": {\n",
    "                        \"$regex\": \"awesome|amazing\",\n",
    "                    }\n",
    "                }\n",
    "            }\n",
    "        }\n",
    "    },\n",
    "    {\n",
    "        \"$count\": \"listingsWithSpecificWords\"\n",
    "    }\n",
    "]\n",
    "\n",
    "query_3 = list(listings.aggregate(query_3))\n",
    "query_3 = query_3[0]['listingsWithSpecificWords']\n",
    "print(\"Query 3:\", query_3)"
   ]
  },
  {
   "cell_type": "code",
   "execution_count": 13,
   "id": "55b6aeca",
   "metadata": {},
   "outputs": [
    {
     "name": "stdout",
     "output_type": "stream",
     "text": [
      "Query 4: 17121\n"
     ]
    }
   ],
   "source": [
    "query_4 = [\n",
    "    {\n",
    "        \"$match\": {\n",
    "            \"reviews\": {\n",
    "                \"$elemMatch\": {\n",
    "                    \"comments\": {\n",
    "                        \"$regex\": \"awesome|amazing\",\n",
    "                        \"$options\": \"i\"\n",
    "                    }\n",
    "                }\n",
    "            }\n",
    "        }\n",
    "    },\n",
    "    {\n",
    "        \"$count\": \"listingsWithSpecificWords\"\n",
    "    }\n",
    "]\n",
    "\n",
    "query_4 = list(listings.aggregate(query_4))\n",
    "query_4 = query_4[0]['listingsWithSpecificWords']\n",
    "print(\"Query 4:\", query_4)"
   ]
  },
  {
   "cell_type": "code",
   "execution_count": 219,
   "id": "7d59b22c",
   "metadata": {},
   "outputs": [
    {
     "name": "stdout",
     "output_type": "stream",
     "text": [
      "CSV file has been created.\n"
     ]
    }
   ],
   "source": [
    "df = pd.DataFrame({\n",
    "    \"Query Number\": [1, 2, 3, 4],\n",
    "    \"Count\": [query_1, query_2, query_3, query_4]\n",
    "})\n",
    "\n",
    "# Write DataFrame to a CSV file\n",
    "df.to_csv('prob_set_5.csv', index=False)\n",
    "\n",
    "print(\"CSV file has been created.\")"
   ]
  }
 ],
 "metadata": {
  "kernelspec": {
   "display_name": "streamlit",
   "language": "python",
   "name": "python3"
  },
  "language_info": {
   "codemirror_mode": {
    "name": "ipython",
    "version": 3
   },
   "file_extension": ".py",
   "mimetype": "text/x-python",
   "name": "python",
   "nbconvert_exporter": "python",
   "pygments_lexer": "ipython3",
   "version": "3.11.5"
  }
 },
 "nbformat": 4,
 "nbformat_minor": 5
}
