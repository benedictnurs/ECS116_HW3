{
 "cells": [
  {
   "cell_type": "code",
   "execution_count": 18,
   "metadata": {},
   "outputs": [
    {
     "data": {
      "text/plain": [
       "<pymongo.command_cursor.CommandCursor at 0x113938590>"
      ]
     },
     "execution_count": 18,
     "metadata": {},
     "output_type": "execute_result"
    }
   ],
   "source": [
    "import json\n",
    "import os\n",
    "import datetime\n",
    "import math\n",
    "from pymongo import MongoClient\n",
    "from bson import json_util, ObjectId\n",
    "import json\n",
    "from pymongo import MongoClient\n",
    "from bson import json_util\n",
    "\n",
    "# Setup MongoDB connection\n",
    "client = MongoClient('mongodb://localhost:27017/')\n",
    "db = client['airbnb']\n",
    "\n",
    "# Define the aggregation pipeline\n",
    "pipeline = [\n",
    "    {\n",
    "        '$lookup': {\n",
    "            'from': 'listings_with_calendar',\n",
    "            'localField': 'id',\n",
    "            'foreignField': '_id',\n",
    "            'as': 'cal_docs'\n",
    "        }\n",
    "    },\n",
    "    {\n",
    "        '$lookup': {\n",
    "            'from': 'reviews_t',\n",
    "            'localField': 'id',\n",
    "            'foreignField': 'listing_id',\n",
    "            'as': 'reviews'\n",
    "        }\n",
    "    },\n",
    "    {\n",
    "        '$unwind': {\n",
    "            'path': '$cal_docs',\n",
    "            'preserveNullAndEmptyArrays': True\n",
    "        }\n",
    "    },\n",
    "    {\n",
    "        '$group': {\n",
    "            '_id': '$_id',\n",
    "            'id': {'$first': '$id'},\n",
    "            'name': {'$first': '$name'},\n",
    "            'host_id': {'$first': '$host_id'},\n",
    "            'host_name': {'$first': '$host_name'},\n",
    "            'neighbourhood_group': {'$first': '$neighbourhood_group'},\n",
    "            'neighbourhood': {'$first': '$neighbourhood'},\n",
    "            'latitude': {'$first': '$latitude'},\n",
    "            'longitude': {'$first': '$longitude'},\n",
    "            'room_type': {'$first': '$room_type'},\n",
    "            'price': {'$first': '$price'},\n",
    "            'minimum_nights': {'$first': '$minimum_nights'},\n",
    "            'number_of_reviews': {'$first': '$number_of_reviews'},\n",
    "            'last_review': {'$first': '$last_review'},\n",
    "            'reviews_per_month': {'$first': '$reviews_per_month'},\n",
    "            'calculated_host_listings_count': {'$first': '$calculated_host_listings_count'},\n",
    "            'availability_365': {'$first': '$availability_365'},\n",
    "            'number_of_reviews_ltm': {'$first': '$number_of_reviews_ltm'},\n",
    "            'license': {'$first': '$license'},\n",
    "            'average_price': {'$avg': '$cal_docs.average_price'},\n",
    "            'first_available_date': {'$min': '$cal_docs.first_available_date'},\n",
    "            'last_available_date': {'$max': '$cal_docs.last_available_date'},\n",
    "            'reviews': {'$push': '$reviews'},\n",
    "            'dates_list': {\n",
    "                '$push': {\n",
    "                    'date': '$cal_docs.dates_list.date',\n",
    "                    'price': '$cal_docs.dates_list.price',\n",
    "                    'minimum_nights': '$cal_docs.dates_list.minimum_nights',\n",
    "                    'maximum_nights': '$cal_docs.dates_list.maximum_nights',\n",
    "                    'available': '$cal_docs.dates_list.available'\n",
    "                }\n",
    "            }\n",
    "        }\n",
    "    },\n",
    "    {\n",
    "        '$out': 'listings_with_reviews_and_cal'\n",
    "    }\n",
    "]\n",
    "\n",
    "# Execute the pipeline\n",
    "db.listings_with_reviews_m.aggregate(pipeline)\n"
   ]
  },
  {
   "cell_type": "code",
   "execution_count": 23,
   "metadata": {},
   "outputs": [
    {
     "name": "stdout",
     "output_type": "stream",
     "text": [
      "Collection(Database(MongoClient(host=['localhost:27017'], document_class=dict, tz_aware=False, connect=True), 'airbnb'), 'listings_with_reviews_m.head')\n"
     ]
    }
   ],
   "source": []
  },
  {
   "cell_type": "code",
   "execution_count": 20,
   "metadata": {},
   "outputs": [
    {
     "ename": "AttributeError",
     "evalue": "'list' object has no attribute 'items'",
     "output_type": "error",
     "traceback": [
      "\u001b[0;31m---------------------------------------------------------------------------\u001b[0m",
      "\u001b[0;31mAttributeError\u001b[0m                            Traceback (most recent call last)",
      "Cell \u001b[0;32mIn[20], line 24\u001b[0m\n\u001b[1;32m     21\u001b[0m             clean_document(value)\n\u001b[1;32m     22\u001b[0m     \u001b[38;5;28;01mreturn\u001b[39;00m doc\n\u001b[0;32m---> 24\u001b[0m cleaned_documents \u001b[38;5;241m=\u001b[39m \u001b[43m[\u001b[49m\u001b[43mclean_document\u001b[49m\u001b[43m(\u001b[49m\u001b[43mdoc\u001b[49m\u001b[43m)\u001b[49m\u001b[43m \u001b[49m\u001b[38;5;28;43;01mfor\u001b[39;49;00m\u001b[43m \u001b[49m\u001b[43mdoc\u001b[49m\u001b[43m \u001b[49m\u001b[38;5;129;43;01min\u001b[39;49;00m\u001b[43m \u001b[49m\u001b[43msubset_docs\u001b[49m\u001b[43m]\u001b[49m\n\u001b[1;32m     29\u001b[0m \u001b[38;5;28;01mdef\u001b[39;00m \u001b[38;5;21mwrite_dict_to_dir_json\u001b[39m(data, \u001b[38;5;28mdir\u001b[39m, filename):\n\u001b[1;32m     30\u001b[0m     \u001b[38;5;66;03m# Creates a JSON file from dictionary data\u001b[39;00m\n\u001b[1;32m     31\u001b[0m     \u001b[38;5;28;01mimport\u001b[39;00m \u001b[38;5;21;01mos\u001b[39;00m\n",
      "Cell \u001b[0;32mIn[20], line 24\u001b[0m, in \u001b[0;36m<listcomp>\u001b[0;34m(.0)\u001b[0m\n\u001b[1;32m     21\u001b[0m             clean_document(value)\n\u001b[1;32m     22\u001b[0m     \u001b[38;5;28;01mreturn\u001b[39;00m doc\n\u001b[0;32m---> 24\u001b[0m cleaned_documents \u001b[38;5;241m=\u001b[39m [\u001b[43mclean_document\u001b[49m\u001b[43m(\u001b[49m\u001b[43mdoc\u001b[49m\u001b[43m)\u001b[49m \u001b[38;5;28;01mfor\u001b[39;00m doc \u001b[38;5;129;01min\u001b[39;00m subset_docs]\n\u001b[1;32m     29\u001b[0m \u001b[38;5;28;01mdef\u001b[39;00m \u001b[38;5;21mwrite_dict_to_dir_json\u001b[39m(data, \u001b[38;5;28mdir\u001b[39m, filename):\n\u001b[1;32m     30\u001b[0m     \u001b[38;5;66;03m# Creates a JSON file from dictionary data\u001b[39;00m\n\u001b[1;32m     31\u001b[0m     \u001b[38;5;28;01mimport\u001b[39;00m \u001b[38;5;21;01mos\u001b[39;00m\n",
      "Cell \u001b[0;32mIn[20], line 19\u001b[0m, in \u001b[0;36mclean_document\u001b[0;34m(doc)\u001b[0m\n\u001b[1;32m     17\u001b[0m \u001b[38;5;28;01melif\u001b[39;00m \u001b[38;5;28misinstance\u001b[39m(value, \u001b[38;5;28mlist\u001b[39m):\n\u001b[1;32m     18\u001b[0m     \u001b[38;5;28;01mfor\u001b[39;00m item \u001b[38;5;129;01min\u001b[39;00m value:\n\u001b[0;32m---> 19\u001b[0m         \u001b[43mclean_document\u001b[49m\u001b[43m(\u001b[49m\u001b[43mitem\u001b[49m\u001b[43m)\u001b[49m\n\u001b[1;32m     20\u001b[0m \u001b[38;5;28;01melif\u001b[39;00m \u001b[38;5;28misinstance\u001b[39m(value, \u001b[38;5;28mdict\u001b[39m):\n\u001b[1;32m     21\u001b[0m     clean_document(value)\n",
      "Cell \u001b[0;32mIn[20], line 10\u001b[0m, in \u001b[0;36mclean_document\u001b[0;34m(doc)\u001b[0m\n\u001b[1;32m      9\u001b[0m \u001b[38;5;28;01mdef\u001b[39;00m \u001b[38;5;21mclean_document\u001b[39m(doc):\n\u001b[0;32m---> 10\u001b[0m     \u001b[38;5;28;01mfor\u001b[39;00m key, value \u001b[38;5;129;01min\u001b[39;00m \u001b[43mdoc\u001b[49m\u001b[38;5;241;43m.\u001b[39;49m\u001b[43mitems\u001b[49m():\n\u001b[1;32m     11\u001b[0m         \u001b[38;5;28;01mif\u001b[39;00m \u001b[38;5;28misinstance\u001b[39m(value, \u001b[38;5;28mfloat\u001b[39m) \u001b[38;5;129;01mand\u001b[39;00m math\u001b[38;5;241m.\u001b[39misnan(value):\n\u001b[1;32m     12\u001b[0m             doc[key] \u001b[38;5;241m=\u001b[39m \u001b[38;5;28;01mNone\u001b[39;00m\n",
      "\u001b[0;31mAttributeError\u001b[0m: 'list' object has no attribute 'items'"
     ]
    }
   ],
   "source": [
    "# Setup MongoDB connection\n",
    "client = MongoClient('mongodb://localhost:27017/')\n",
    "db = client['airbnb']\n",
    "\n",
    "# Fetch the processed documents\n",
    "subset_docs = db.listings_with_reviews_and_cal.find({'id': {'$regex': '^111.*'}})\n",
    "\n",
    "# Function to replace NaN with None and format datetime\n",
    "def clean_document(doc):\n",
    "    for key, value in doc.items():\n",
    "        if isinstance(value, float) and math.isnan(value):\n",
    "            doc[key] = None\n",
    "        elif isinstance(value, ObjectId):\n",
    "            doc[key] = str(value)\n",
    "        elif isinstance(value, datetime.datetime):\n",
    "            doc[key] = value.strftime('%Y-%m-%d')\n",
    "        elif isinstance(value, list):\n",
    "            for item in value:\n",
    "                clean_document(item)\n",
    "        elif isinstance(value, dict):\n",
    "            clean_document(value)\n",
    "    return doc\n",
    "\n",
    "cleaned_documents = [clean_document(doc) for doc in subset_docs]\n",
    "\n",
    "\n",
    "\n",
    "\n",
    "def write_dict_to_dir_json(data, dir, filename):\n",
    "    # Creates a JSON file from dictionary data\n",
    "    import os\n",
    "    if not os.path.exists(dir):\n",
    "        os.makedirs(dir)  # Ensure the directory exists\n",
    "    full_path = f\"{dir}/{filename}\"\n",
    "    with open(full_path, 'w') as fp:\n",
    "        json.dump(data, fp, default=json_util.default)  # Use json_util.default to handle MongoDB specific types if needed\n",
    "\n",
    "# Directory and filename\n",
    "dir = 'OUTPUTS'\n",
    "filename = 'listings_with_reviews_and_cal_subset_111.json'\n",
    "\n",
    "# Call the function with correct parameters\n",
    "write_dict_to_dir_json(subset_docs, dir, filename)"
   ]
  }
 ],
 "metadata": {
  "kernelspec": {
   "display_name": "streamlit",
   "language": "python",
   "name": "python3"
  },
  "language_info": {
   "codemirror_mode": {
    "name": "ipython",
    "version": 3
   },
   "file_extension": ".py",
   "mimetype": "text/x-python",
   "name": "python",
   "nbconvert_exporter": "python",
   "pygments_lexer": "ipython3",
   "version": "3.11.5"
  }
 },
 "nbformat": 4,
 "nbformat_minor": 2
}
