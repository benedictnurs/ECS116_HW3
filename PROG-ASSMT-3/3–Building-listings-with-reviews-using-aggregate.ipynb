{
 "cells": [
  {
   "cell_type": "code",
   "execution_count": 161,
   "metadata": {},
   "outputs": [
    {
     "data": {
      "text/plain": [
       "'listing_id_1'"
      ]
     },
     "execution_count": 161,
     "metadata": {},
     "output_type": "execute_result"
    }
   ],
   "source": [
    "import pandas as pd\n",
    "from pymongo import MongoClient\n",
    "import math\n",
    "import numpy as np\n",
    "\n",
    "# Load CSV files\n",
    "listings_df = pd.read_csv('/Users/benedictnursalim/Desktop/data/listings.csv', keep_default_na=False)\n",
    "reviews_df = pd.read_csv(\n",
    "    '/Users/benedictnursalim/Desktop/data/reviews.csv',\n",
    "    dtype={\"date\": str},  # Load 'date' as string to convert later\n",
    "    keep_default_na=False\n",
    ")\n",
    "\n",
    "# Convert 'id' in listings_df and 'listing_id' in reviews_df to string\n",
    "listings_df['id'] = listings_df['id'].astype(str)\n",
    "listings_df['host_id'] = listings_df['host_id'].astype(str)\n",
    "\n",
    "#Change reviews_df\n",
    "reviews_df['listing_id'] = reviews_df['listing_id'].astype(str)\n",
    "reviews_df['id'] = reviews_df['id'].astype(str)\n",
    "reviews_df['reviewer_id'] = reviews_df['reviewer_id'].astype(str)\n",
    "columns = [\"date\", \"listing_id\", \"id\", \"reviewer_id\", \"reviewer_name\", \"comments\"]\n",
    "reviews_df = reviews_df[columns]\n",
    "\n",
    "\n",
    "listings_df['price'] = listings_df['price'].apply(lambda x: None if x == '' else x)\n",
    "listings_df['last_review'] = listings_df['last_review'].apply(lambda x: None if x == '' else x)\n",
    "listings_df['last_review'] = listings_df['last_review'].apply(lambda x: None if x == '' else x)\n",
    "# Properly handle empty strings and conversion to float\n",
    "listings_df['reviews_per_month'] = listings_df['reviews_per_month'].apply(\n",
    "    lambda x: None if x == '' else float(x) if pd.notna(x) else None\n",
    ")\n",
    "listings_df = listings_df.replace(np.nan, None)\n",
    "\n",
    "\n",
    "\n",
    "# Define the desired column order\n",
    "columns_listings = [\"id\", \"name\", \"host_id\", \"host_name\", \"neighbourhood_group\",\n",
    "           \"neighbourhood\", \"latitude\", \"longitude\", \"room_type\", \"price\",\n",
    "           \"minimum_nights\", \"number_of_reviews\", \"last_review\", \"reviews_per_month\",\n",
    "           \"calculated_host_listings_count\", \"availability_365\", \"number_of_reviews_ltm\",\n",
    "           \"license\"]\n",
    "\n",
    "# Reorder the columns in the DataFrame according to the list 'columns'\n",
    "listings_df = listings_df[columns_listings]\n",
    "\n",
    "\n",
    "# Setup MongoDB connection\n",
    "client = MongoClient()\n",
    "db = client.airbnb\n",
    "\n",
    "# Drop existing collections to avoid duplicates\n",
    "db.listings_t.drop()\n",
    "db.reviews_t.drop()\n",
    "\n",
    "# Convert 'date' in reviews_df from string to datetime and localize to UTC\n",
    "\n",
    "# Insert data into MongoDB\n",
    "db.listings_t.insert_many(listings_df.to_dict('records'))\n",
    "db.reviews_t.insert_many(reviews_df.to_dict('records'))\n",
    "db.reviews_t.create_index('listing_id')\n"
   ]
  },
  {
   "cell_type": "code",
   "execution_count": 162,
   "metadata": {},
   "outputs": [
    {
     "data": {
      "text/plain": [
       "<pymongo.command_cursor.CommandCursor at 0x15c174cd0>"
      ]
     },
     "execution_count": 162,
     "metadata": {},
     "output_type": "execute_result"
    }
   ],
   "source": [
    "pipeline = [\n",
    "    {\n",
    "        '$lookup': {\n",
    "            'from': 'reviews_t',\n",
    "            'localField': 'id',\n",
    "            'foreignField': 'listing_id',\n",
    "            'as': 'reviews'\n",
    "        }\n",
    "    },\n",
    "    {\n",
    "        '$out': 'listings_with_reviews_m'\n",
    "    }\n",
    "]\n",
    "\n",
    "db.listings_t.aggregate(pipeline)"
   ]
  },
  {
   "cell_type": "code",
   "execution_count": 163,
   "metadata": {},
   "outputs": [
    {
     "name": "stdout",
     "output_type": "stream",
     "text": [
      "date             object\n",
      "listing_id       object\n",
      "id               object\n",
      "reviewer_id      object\n",
      "reviewer_name    object\n",
      "comments         object\n",
      "dtype: object\n"
     ]
    }
   ],
   "source": [
    "print(reviews_df.dtypes)"
   ]
  },
  {
   "cell_type": "code",
   "execution_count": 166,
   "metadata": {},
   "outputs": [],
   "source": [
    "import json\n",
    "import datetime\n",
    "from pymongo import MongoClient\n",
    "from bson import json_util, ObjectId\n",
    "\n",
    "# Setup MongoDB connection\n",
    "client = MongoClient()\n",
    "db = client['airbnb']\n",
    "\n",
    "def simplify_mongo_data(document):\n",
    "    if isinstance(document, dict):\n",
    "        for key, value in document.items():\n",
    "            if isinstance(value, ObjectId):\n",
    "                document[key] = str(value)\n",
    "            elif isinstance(value, datetime.datetime):\n",
    "                document[key] = value.strftime('%Y-%m-%dT%H:%M:%S.000Z')\n",
    "            elif isinstance(value, dict):\n",
    "                document[key] = simplify_mongo_data(value)\n",
    "            elif isinstance(value, list):\n",
    "                document[key] = [simplify_mongo_data(item) for item in value]\n",
    "    return document\n",
    "\n",
    "# Query documents\n",
    "subset_docs = db.listings_with_reviews_m.find({'id': {'$regex': '^1000.*'}})\n",
    "\n",
    "# Convert cursor to a list and process documents to convert BSON types to strings\n",
    "subset_docs_list = [simplify_mongo_data(doc) for doc in subset_docs]\n",
    "\n",
    "def write_dict_to_dir_json(data, dir, filename):\n",
    "    # Creates a JSON file from dictionary data\n",
    "    import os\n",
    "    if not os.path.exists(dir):\n",
    "        os.makedirs(dir)  # Ensure the directory exists\n",
    "    full_path = f\"{dir}/{filename}\"\n",
    "    with open(full_path, 'w') as fp:\n",
    "        json.dump(data, fp, default=json_util.default)\n",
    "\n",
    "# Directory and filename\n",
    "dir = 'OUTPUTS'\n",
    "filename = 'listings_with_reviews_m_subset_1000.json'\n",
    "\n",
    "# Call the function\n",
    "write_dict_to_dir_json(subset_docs_list, dir, filename)\n"
   ]
  },
  {
   "cell_type": "code",
   "execution_count": 165,
   "metadata": {},
   "outputs": [
    {
     "name": "stdout",
     "output_type": "stream",
     "text": [
      "The file contains 43 documents.\n"
     ]
    }
   ],
   "source": [
    "with open('OUTPUTS/listings_with_reviews_m_subset_1000.json', 'r') as file:\n",
    "    data = json.load(file)\n",
    "\n",
    "number_of_documents = len(data)\n",
    "print(f\"The file contains {number_of_documents} documents.\")"
   ]
  }
 ],
 "metadata": {
  "kernelspec": {
   "display_name": "streamlit",
   "language": "python",
   "name": "python3"
  },
  "language_info": {
   "codemirror_mode": {
    "name": "ipython",
    "version": 3
   },
   "file_extension": ".py",
   "mimetype": "text/x-python",
   "name": "python",
   "nbconvert_exporter": "python",
   "pygments_lexer": "ipython3",
   "version": "3.11.5"
  }
 },
 "nbformat": 4,
 "nbformat_minor": 2
}
